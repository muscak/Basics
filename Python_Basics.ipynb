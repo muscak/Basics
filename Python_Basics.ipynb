{
  "nbformat": 4,
  "nbformat_minor": 0,
  "metadata": {
    "colab": {
      "name": "Python_Basics.ipynb",
      "provenance": [],
      "collapsed_sections": [
        "VVdDlJaAcODw",
        "It-jI-6WfCVK",
        "eigBTYzrjAxM",
        "vRHSRQYKlDwH",
        "nNmfJteQl53u",
        "MitJ_IBhp4lv"
      ],
      "authorship_tag": "ABX9TyP9KgZ3d3wNP/pNrFO3dkgd",
      "include_colab_link": true
    },
    "kernelspec": {
      "name": "python3",
      "display_name": "Python 3"
    },
    "language_info": {
      "name": "python"
    }
  },
  "cells": [
    {
      "cell_type": "markdown",
      "metadata": {
        "id": "view-in-github",
        "colab_type": "text"
      },
      "source": [
        "<a href=\"https://colab.research.google.com/github/muscak/Basics/blob/main/Python_Basics.ipynb\" target=\"_parent\"><img src=\"https://colab.research.google.com/assets/colab-badge.svg\" alt=\"Open In Colab\"/></a>"
      ]
    },
    {
      "cell_type": "markdown",
      "source": [
        "# Conditional Statements"
      ],
      "metadata": {
        "id": "VVdDlJaAcODw"
      }
    },
    {
      "cell_type": "code",
      "source": [
        "is_sunny = True\n",
        "if is_sunny:\n",
        "  print(\"It's sunny\")\n",
        "else: \n",
        "  print(\"It's NOT sunny\")"
      ],
      "metadata": {
        "colab": {
          "base_uri": "https://localhost:8080/"
        },
        "id": "pA-Sw_eVcGyL",
        "outputId": "00f9ab9c-4815-4fba-fcbc-5e990da1d467"
      },
      "execution_count": null,
      "outputs": [
        {
          "output_type": "stream",
          "name": "stdout",
          "text": [
            "It's sunny\n"
          ]
        }
      ]
    },
    {
      "cell_type": "code",
      "source": [
        "temp = 95\n",
        "bath = 75\n",
        "\n",
        "if 90 <= temp < 100 and bath > 80:\n",
        "  print(\"Bath is hot and full\")\n",
        "elif temp < 90 or bath < 80:\n",
        "  print(\"Bath is NOT full or hot\")"
      ],
      "metadata": {
        "colab": {
          "base_uri": "https://localhost:8080/"
        },
        "id": "aQtchsBIds9n",
        "outputId": "b9ca7f9a-83a2-4878-936e-dff7ed5ce3ee"
      },
      "execution_count": null,
      "outputs": [
        {
          "output_type": "stream",
          "name": "stdout",
          "text": [
            "Bath is NOT full or hot\n"
          ]
        }
      ]
    },
    {
      "cell_type": "code",
      "source": [
        "\"\"\"\n",
        "This is and example of multiline comments.\n",
        "This is and example of multiline comments.\n",
        "This is and example of multiline comments.\n",
        "\"\"\"\n",
        "print(\"Deneme\")"
      ],
      "metadata": {
        "colab": {
          "base_uri": "https://localhost:8080/"
        },
        "id": "9pGaUgszUhG3",
        "outputId": "863f5540-46a3-4334-dc25-f1352f6327a7"
      },
      "execution_count": null,
      "outputs": [
        {
          "output_type": "stream",
          "name": "stdout",
          "text": [
            "Deneme\n"
          ]
        }
      ]
    },
    {
      "cell_type": "markdown",
      "source": [
        "#Lists and Operations"
      ],
      "metadata": {
        "id": "It-jI-6WfCVK"
      }
    },
    {
      "cell_type": "code",
      "source": [
        "scores = ['A', 'C', 90, 75, 'C']\n",
        "print(scores)\n",
        "print('Type: {}'.format(type(scores)))"
      ],
      "metadata": {
        "colab": {
          "base_uri": "https://localhost:8080/"
        },
        "id": "HQC4bXH3fYvl",
        "outputId": "0ecd3495-8f97-4e61-f29e-0b77ab803931"
      },
      "execution_count": null,
      "outputs": [
        {
          "output_type": "stream",
          "name": "stdout",
          "text": [
            "['A', 'C', 90, 75, 'C']\n",
            "Type: <class 'list'>\n"
          ]
        }
      ]
    },
    {
      "cell_type": "code",
      "source": [
        "# First element of the list\n",
        "scores[0]"
      ],
      "metadata": {
        "colab": {
          "base_uri": "https://localhost:8080/",
          "height": 35
        },
        "id": "dv_Qn66ify34",
        "outputId": "8b329fd9-223c-4335-803a-19e5b4bfa722"
      },
      "execution_count": null,
      "outputs": [
        {
          "output_type": "execute_result",
          "data": {
            "text/plain": [
              "'A'"
            ],
            "application/vnd.google.colaboratory.intrinsic+json": {
              "type": "string"
            }
          },
          "metadata": {},
          "execution_count": 10
        }
      ]
    },
    {
      "cell_type": "code",
      "source": [
        "# From the second element untill the 3rd element of the list EXCEPT the last one. [1, 4)\n",
        "scores[1:4]"
      ],
      "metadata": {
        "colab": {
          "base_uri": "https://localhost:8080/"
        },
        "id": "AMD87--dfy6C",
        "outputId": "4cbab2b6-be85-4f26-fe5b-f5370d42a5a5"
      },
      "execution_count": null,
      "outputs": [
        {
          "output_type": "execute_result",
          "data": {
            "text/plain": [
              "['C', 90, 75]"
            ]
          },
          "metadata": {},
          "execution_count": 12
        }
      ]
    },
    {
      "cell_type": "code",
      "source": [
        "# Starting from the 3rd one till the end.\n",
        "scores[2:]"
      ],
      "metadata": {
        "colab": {
          "base_uri": "https://localhost:8080/"
        },
        "id": "CQW-pJilfzGW",
        "outputId": "717bb81f-3b97-42de-94f5-6021208d0404"
      },
      "execution_count": null,
      "outputs": [
        {
          "output_type": "execute_result",
          "data": {
            "text/plain": [
              "[90, 75, 'C']"
            ]
          },
          "metadata": {},
          "execution_count": 13
        }
      ]
    },
    {
      "cell_type": "code",
      "source": [
        "# Starting from the last till the 2nd element\n",
        "scores[:2]  "
      ],
      "metadata": {
        "colab": {
          "base_uri": "https://localhost:8080/"
        },
        "id": "Gp8BaZ9jgp9k",
        "outputId": "a8893259-1045-40b1-be7d-82bbef56bf11"
      },
      "execution_count": null,
      "outputs": [
        {
          "output_type": "execute_result",
          "data": {
            "text/plain": [
              "['A', 'C']"
            ]
          },
          "metadata": {},
          "execution_count": 14
        }
      ]
    },
    {
      "cell_type": "code",
      "source": [
        "# Except the last 2\n",
        "scores[:-2]"
      ],
      "metadata": {
        "colab": {
          "base_uri": "https://localhost:8080/"
        },
        "id": "WVcPsQRKgqTl",
        "outputId": "b8cdb374-9f0d-4537-8f66-a6e4a1a17293"
      },
      "execution_count": null,
      "outputs": [
        {
          "output_type": "execute_result",
          "data": {
            "text/plain": [
              "['A', 'C', 90]"
            ]
          },
          "metadata": {},
          "execution_count": 15
        }
      ]
    },
    {
      "cell_type": "code",
      "source": [
        "# Number of elements (length) of the list\n",
        "len(scores)"
      ],
      "metadata": {
        "colab": {
          "base_uri": "https://localhost:8080/"
        },
        "id": "yaVQmRINgqgd",
        "outputId": "949079ed-bb61-480e-8c31-2561d7e24960"
      },
      "execution_count": null,
      "outputs": [
        {
          "output_type": "execute_result",
          "data": {
            "text/plain": [
              "5"
            ]
          },
          "metadata": {},
          "execution_count": 18
        }
      ]
    },
    {
      "cell_type": "code",
      "source": [
        "# Number of specific elements in the list\n",
        "scores.count('C')"
      ],
      "metadata": {
        "colab": {
          "base_uri": "https://localhost:8080/"
        },
        "id": "nFdkd4Akgqir",
        "outputId": "a431ef84-a491-4a84-8e1c-3d9890c6a3e8"
      },
      "execution_count": null,
      "outputs": [
        {
          "output_type": "execute_result",
          "data": {
            "text/plain": [
              "2"
            ]
          },
          "metadata": {},
          "execution_count": 21
        }
      ]
    },
    {
      "cell_type": "code",
      "source": [
        "# Removes specific element from the list\n",
        "scores.remove('A')\n",
        "print(scores)"
      ],
      "metadata": {
        "colab": {
          "base_uri": "https://localhost:8080/"
        },
        "id": "yzI8gadYhTYZ",
        "outputId": "582a1d13-e86c-45cb-8c62-a3203d67db35"
      },
      "execution_count": null,
      "outputs": [
        {
          "output_type": "stream",
          "name": "stdout",
          "text": [
            "['C', 90, 75, 'C']\n"
          ]
        }
      ]
    },
    {
      "cell_type": "code",
      "source": [
        "# Add an element at the end of the list\n",
        "scores.append(100)\n",
        "print(scores)"
      ],
      "metadata": {
        "colab": {
          "base_uri": "https://localhost:8080/"
        },
        "id": "-pV5xNlwhTaU",
        "outputId": "d41c4f60-408a-4780-f046-c2464483780a"
      },
      "execution_count": null,
      "outputs": [
        {
          "output_type": "stream",
          "name": "stdout",
          "text": [
            "['C', 90, 75, 'C', 100]\n"
          ]
        }
      ]
    },
    {
      "cell_type": "code",
      "source": [
        "# Removes the last item\n",
        "scores.pop()\n",
        "scores"
      ],
      "metadata": {
        "colab": {
          "base_uri": "https://localhost:8080/"
        },
        "id": "rXZXE4WHipOt",
        "outputId": "e108c6df-26fc-463a-e202-caf2668d4766"
      },
      "execution_count": null,
      "outputs": [
        {
          "output_type": "execute_result",
          "data": {
            "text/plain": [
              "['C', 90, 75, 'C']"
            ]
          },
          "metadata": {},
          "execution_count": 26
        }
      ]
    },
    {
      "cell_type": "code",
      "source": [
        "#Removes the 3rd item\n",
        "scores.pop(2)\n",
        "scores"
      ],
      "metadata": {
        "colab": {
          "base_uri": "https://localhost:8080/"
        },
        "id": "cLtEHL3uipRC",
        "outputId": "4c0e6784-1409-4161-82bb-d9ff6b5e4d0b"
      },
      "execution_count": null,
      "outputs": [
        {
          "output_type": "execute_result",
          "data": {
            "text/plain": [
              "['C', 90, 'C']"
            ]
          },
          "metadata": {},
          "execution_count": 27
        }
      ]
    },
    {
      "cell_type": "code",
      "source": [
        "75 in scores"
      ],
      "metadata": {
        "colab": {
          "base_uri": "https://localhost:8080/"
        },
        "id": "7tEillHdipWo",
        "outputId": "aba826f2-e6ca-4650-8ce8-94d3079773d5"
      },
      "execution_count": null,
      "outputs": [
        {
          "output_type": "execute_result",
          "data": {
            "text/plain": [
              "False"
            ]
          },
          "metadata": {},
          "execution_count": 28
        }
      ]
    },
    {
      "cell_type": "code",
      "source": [
        "# Generates an ordered list of integers between 2 and 9\n",
        "L = list(range(2,10))\n",
        "L"
      ],
      "metadata": {
        "colab": {
          "base_uri": "https://localhost:8080/"
        },
        "id": "4rt2QDuzJcHA",
        "outputId": "e21e7341-0eba-4d9b-f40e-d1fd24d161f1"
      },
      "execution_count": null,
      "outputs": [
        {
          "output_type": "execute_result",
          "data": {
            "text/plain": [
              "[2, 3, 4, 5, 6, 7, 8, 9]"
            ]
          },
          "metadata": {},
          "execution_count": 6
        }
      ]
    },
    {
      "cell_type": "code",
      "source": [
        "type(L)"
      ],
      "metadata": {
        "colab": {
          "base_uri": "https://localhost:8080/"
        },
        "id": "T_GP4dMFMHY7",
        "outputId": "bfc19f7b-2de2-4a90-ed25-8922b5c16a5a"
      },
      "execution_count": null,
      "outputs": [
        {
          "output_type": "execute_result",
          "data": {
            "text/plain": [
              "list"
            ]
          },
          "metadata": {},
          "execution_count": 4
        }
      ]
    },
    {
      "cell_type": "markdown",
      "source": [
        "#For Loops"
      ],
      "metadata": {
        "id": "eigBTYzrjAxM"
      }
    },
    {
      "cell_type": "code",
      "source": [
        "grades = ['A', 'C', 'B', 'F', 'D']\n",
        "\n",
        "# Iterate over all values\n",
        "for grade in grades:\n",
        "  print(grade)"
      ],
      "metadata": {
        "colab": {
          "base_uri": "https://localhost:8080/"
        },
        "id": "4POvXg-Ri_pq",
        "outputId": "4dd6462d-ffee-462b-c2e4-3cb7021c954f"
      },
      "execution_count": null,
      "outputs": [
        {
          "output_type": "stream",
          "name": "stdout",
          "text": [
            "A\n",
            "C\n",
            "B\n",
            "F\n",
            "D\n"
          ]
        }
      ]
    },
    {
      "cell_type": "code",
      "source": [
        "# Using key, value pair\n",
        "for k, v in enumerate(grades):\n",
        "  if v == 'F':\n",
        "    grades[k] = 'A' #change all Fs to As\n",
        "\n",
        "print(grades)"
      ],
      "metadata": {
        "colab": {
          "base_uri": "https://localhost:8080/"
        },
        "id": "0jLlimE9i_sM",
        "outputId": "f9e85abf-9b1c-463d-aff6-cdf3e9276985"
      },
      "execution_count": null,
      "outputs": [
        {
          "output_type": "stream",
          "name": "stdout",
          "text": [
            "['A', 'C', 'B', 'A', 'D']\n"
          ]
        }
      ]
    },
    {
      "cell_type": "code",
      "source": [
        "inv = {'apples': 7, 'peaches': 4}\n",
        "for fruit, count in inv.items():\n",
        "  print('We have {} {}'.format(count, fruit))"
      ],
      "metadata": {
        "colab": {
          "base_uri": "https://localhost:8080/"
        },
        "id": "bzRbt9wRi_u2",
        "outputId": "28b4b272-f5b8-4403-f008-8cff77ddab68"
      },
      "execution_count": null,
      "outputs": [
        {
          "output_type": "stream",
          "name": "stdout",
          "text": [
            "We have 7 apples\n",
            "We have 4 peaches\n"
          ]
        }
      ]
    },
    {
      "cell_type": "code",
      "source": [
        "for i in range(10): # from 0 to 9 increasing by 1\n",
        "  print(i)"
      ],
      "metadata": {
        "colab": {
          "base_uri": "https://localhost:8080/"
        },
        "id": "b2nB_N2ki_xP",
        "outputId": "22063b01-b61a-49f2-8153-188a49d8ada9"
      },
      "execution_count": null,
      "outputs": [
        {
          "output_type": "stream",
          "name": "stdout",
          "text": [
            "0\n",
            "1\n",
            "2\n",
            "3\n",
            "4\n",
            "5\n",
            "6\n",
            "7\n",
            "8\n",
            "9\n"
          ]
        }
      ]
    },
    {
      "cell_type": "code",
      "source": [
        "for i in range(9, 2, -1): # from 9 to 3 decreasing by 1\n",
        "  print(i)"
      ],
      "metadata": {
        "colab": {
          "base_uri": "https://localhost:8080/"
        },
        "id": "dyCaOivvk3I0",
        "outputId": "dbee7ac8-8e43-4153-cd3a-8322d593a296"
      },
      "execution_count": null,
      "outputs": [
        {
          "output_type": "stream",
          "name": "stdout",
          "text": [
            "9\n",
            "8\n",
            "7\n",
            "6\n",
            "5\n",
            "4\n",
            "3\n"
          ]
        }
      ]
    },
    {
      "cell_type": "markdown",
      "source": [
        "#Functions"
      ],
      "metadata": {
        "id": "vRHSRQYKlDwH"
      }
    },
    {
      "cell_type": "code",
      "source": [
        "def sum_nums(num_one, num_two=1):\n",
        "  return num_one + num_two"
      ],
      "metadata": {
        "id": "ylzXH4GolJy1"
      },
      "execution_count": null,
      "outputs": []
    },
    {
      "cell_type": "code",
      "source": [
        "print(sum_nums(3, 4))"
      ],
      "metadata": {
        "colab": {
          "base_uri": "https://localhost:8080/"
        },
        "id": "rWlX3X-dlKAs",
        "outputId": "2a24bcee-25f6-4daf-d867-281a8e898bc4"
      },
      "execution_count": null,
      "outputs": [
        {
          "output_type": "stream",
          "name": "stdout",
          "text": [
            "7\n"
          ]
        }
      ]
    },
    {
      "cell_type": "code",
      "source": [
        "print(sum_nums(3))"
      ],
      "metadata": {
        "colab": {
          "base_uri": "https://localhost:8080/"
        },
        "id": "3OF9jbLilKCf",
        "outputId": "ba2498c9-69d7-4d91-cd61-a8a217d3643c"
      },
      "execution_count": null,
      "outputs": [
        {
          "output_type": "stream",
          "name": "stdout",
          "text": [
            "4\n"
          ]
        }
      ]
    },
    {
      "cell_type": "markdown",
      "source": [
        "#Strings"
      ],
      "metadata": {
        "id": "nNmfJteQl53u"
      }
    },
    {
      "cell_type": "code",
      "source": [
        "title = 'Us and them'\n",
        "title[0]"
      ],
      "metadata": {
        "colab": {
          "base_uri": "https://localhost:8080/",
          "height": 35
        },
        "id": "fpeu-gS1l75j",
        "outputId": "2fd2f55e-21fe-4e79-d832-761ae4fdaf19"
      },
      "execution_count": null,
      "outputs": [
        {
          "output_type": "execute_result",
          "data": {
            "text/plain": [
              "'U'"
            ],
            "application/vnd.google.colaboratory.intrinsic+json": {
              "type": "string"
            }
          },
          "metadata": {},
          "execution_count": 41
        }
      ]
    },
    {
      "cell_type": "code",
      "source": [
        "len(title)"
      ],
      "metadata": {
        "colab": {
          "base_uri": "https://localhost:8080/"
        },
        "id": "8G__x2oRl77_",
        "outputId": "57a3d1cf-bb03-43c1-f66f-53cfc6cf0421"
      },
      "execution_count": null,
      "outputs": [
        {
          "output_type": "execute_result",
          "data": {
            "text/plain": [
              "11"
            ]
          },
          "metadata": {},
          "execution_count": 42
        }
      ]
    },
    {
      "cell_type": "code",
      "source": [
        "title.split(' ')[0]"
      ],
      "metadata": {
        "colab": {
          "base_uri": "https://localhost:8080/",
          "height": 35
        },
        "id": "W_-WMCMSl7-d",
        "outputId": "7bbc4216-3479-43f0-eb61-6962d3703d93"
      },
      "execution_count": null,
      "outputs": [
        {
          "output_type": "execute_result",
          "data": {
            "text/plain": [
              "'Us'"
            ],
            "application/vnd.google.colaboratory.intrinsic+json": {
              "type": "string"
            }
          },
          "metadata": {},
          "execution_count": 44
        }
      ]
    },
    {
      "cell_type": "code",
      "source": [
        "':'.join(['A', 'B', 'C'])"
      ],
      "metadata": {
        "colab": {
          "base_uri": "https://localhost:8080/",
          "height": 35
        },
        "id": "VmkVmNlWl8Ak",
        "outputId": "a6ddc482-e4e7-41d2-a0f1-33ddd0e2c06f"
      },
      "execution_count": null,
      "outputs": [
        {
          "output_type": "execute_result",
          "data": {
            "text/plain": [
              "'A:B:C'"
            ],
            "application/vnd.google.colaboratory.intrinsic+json": {
              "type": "string"
            }
          },
          "metadata": {},
          "execution_count": 45
        }
      ]
    },
    {
      "cell_type": "code",
      "source": [
        "nine = str(9) # Converst int to string\n",
        "print(nine)\n",
        "print(type(nine))"
      ],
      "metadata": {
        "colab": {
          "base_uri": "https://localhost:8080/"
        },
        "id": "aXMMNG63l8Co",
        "outputId": "14d99c2e-97d2-4e30-fc78-7988008e7697"
      },
      "execution_count": null,
      "outputs": [
        {
          "output_type": "stream",
          "name": "stdout",
          "text": [
            "9\n",
            "<class 'str'>\n"
          ]
        }
      ]
    },
    {
      "cell_type": "code",
      "source": [
        "title.replace('them', 'Us')"
      ],
      "metadata": {
        "colab": {
          "base_uri": "https://localhost:8080/",
          "height": 35
        },
        "id": "xmO9JjoSoVf6",
        "outputId": "d43525a9-5a45-4c19-bbd3-f00f2e59f6c9"
      },
      "execution_count": null,
      "outputs": [
        {
          "output_type": "execute_result",
          "data": {
            "text/plain": [
              "'Us and Us'"
            ],
            "application/vnd.google.colaboratory.intrinsic+json": {
              "type": "string"
            }
          },
          "metadata": {},
          "execution_count": 48
        }
      ]
    },
    {
      "cell_type": "code",
      "source": [
        "title.count('Us')"
      ],
      "metadata": {
        "colab": {
          "base_uri": "https://localhost:8080/"
        },
        "id": "ZlPFXOdyoViI",
        "outputId": "c24079e5-1913-4c30-a8a1-65cc5c3ec5ca"
      },
      "execution_count": null,
      "outputs": [
        {
          "output_type": "execute_result",
          "data": {
            "text/plain": [
              "1"
            ]
          },
          "metadata": {},
          "execution_count": 49
        }
      ]
    },
    {
      "cell_type": "code",
      "source": [
        "title"
      ],
      "metadata": {
        "colab": {
          "base_uri": "https://localhost:8080/",
          "height": 35
        },
        "id": "cMZYeHDboVkO",
        "outputId": "f037b0a3-00ec-4730-9879-80ffcac50ff0"
      },
      "execution_count": null,
      "outputs": [
        {
          "output_type": "execute_result",
          "data": {
            "text/plain": [
              "'Us and them'"
            ],
            "application/vnd.google.colaboratory.intrinsic+json": {
              "type": "string"
            }
          },
          "metadata": {},
          "execution_count": 51
        }
      ]
    },
    {
      "cell_type": "markdown",
      "source": [
        "#Tuples"
      ],
      "metadata": {
        "id": "MitJ_IBhp4lv"
      }
    },
    {
      "cell_type": "code",
      "source": [
        "# Like lists except they can't be changed\n",
        "tuple1 = (1, 2, 4, 'a', 'z')\n",
        "tuple1"
      ],
      "metadata": {
        "colab": {
          "base_uri": "https://localhost:8080/"
        },
        "id": "riyl0sm0p-Rk",
        "outputId": "9984dbf3-ee92-459d-e490-7a547539d84e"
      },
      "execution_count": null,
      "outputs": [
        {
          "output_type": "execute_result",
          "data": {
            "text/plain": [
              "(1, 2, 4, 'a', 'z')"
            ]
          },
          "metadata": {},
          "execution_count": 52
        }
      ]
    },
    {
      "cell_type": "code",
      "source": [
        "tuple1[3]"
      ],
      "metadata": {
        "colab": {
          "base_uri": "https://localhost:8080/",
          "height": 35
        },
        "id": "1WyuZCkPqLYp",
        "outputId": "7ff392d3-d0bf-492e-be3d-482cb498cb45"
      },
      "execution_count": null,
      "outputs": [
        {
          "output_type": "execute_result",
          "data": {
            "text/plain": [
              "'a'"
            ],
            "application/vnd.google.colaboratory.intrinsic+json": {
              "type": "string"
            }
          },
          "metadata": {},
          "execution_count": 53
        }
      ]
    },
    {
      "cell_type": "markdown",
      "source": [
        "#Dictionaries"
      ],
      "metadata": {
        "id": "X0vM4wmQqdPN"
      }
    },
    {
      "cell_type": "code",
      "source": [
        "votes = {'red':3, 'blue':5}\n",
        "votes"
      ],
      "metadata": {
        "colab": {
          "base_uri": "https://localhost:8080/"
        },
        "id": "WnKrfcu9qLbF",
        "outputId": "c3e3f4c8-8963-4c04-d1cd-1083d092ef44"
      },
      "execution_count": null,
      "outputs": [
        {
          "output_type": "execute_result",
          "data": {
            "text/plain": [
              "{'blue': 5, 'red': 3}"
            ]
          },
          "metadata": {},
          "execution_count": 54
        }
      ]
    },
    {
      "cell_type": "code",
      "source": [
        "# List of the keys in the dictionary\n",
        "votes.keys()"
      ],
      "metadata": {
        "colab": {
          "base_uri": "https://localhost:8080/"
        },
        "id": "D983X_YXqgOa",
        "outputId": "4f5a6bf5-5a2f-464d-c73c-4f71be5da7ac"
      },
      "execution_count": null,
      "outputs": [
        {
          "output_type": "execute_result",
          "data": {
            "text/plain": [
              "dict_keys(['red', 'blue'])"
            ]
          },
          "metadata": {},
          "execution_count": 55
        }
      ]
    },
    {
      "cell_type": "code",
      "source": [
        "# Adds a key value pair and indexes it based on the key\n",
        "votes['gold'] = 4\n",
        "votes['cyan'] = 8\n",
        "votes"
      ],
      "metadata": {
        "colab": {
          "base_uri": "https://localhost:8080/"
        },
        "id": "bUC47JWFqgQk",
        "outputId": "172e31f4-70ca-45e3-9497-2b7a86b6703c"
      },
      "execution_count": null,
      "outputs": [
        {
          "output_type": "execute_result",
          "data": {
            "text/plain": [
              "{'blue': 5, 'cyan': 8, 'gold': 4, 'red': 3}"
            ]
          },
          "metadata": {},
          "execution_count": 62
        }
      ]
    },
    {
      "cell_type": "code",
      "source": [
        "# Deletes key\n",
        "del votes['gold']\n",
        "votes"
      ],
      "metadata": {
        "colab": {
          "base_uri": "https://localhost:8080/"
        },
        "id": "RWqMTeE2qgTT",
        "outputId": "5cf2d037-cc8b-4638-e053-6197698f3741"
      },
      "execution_count": null,
      "outputs": [
        {
          "output_type": "execute_result",
          "data": {
            "text/plain": [
              "{'blue': 5, 'cyan': 8, 'red': 3}"
            ]
          },
          "metadata": {},
          "execution_count": 63
        }
      ]
    },
    {
      "cell_type": "code",
      "source": [
        "# Change the value of a key\n",
        "votes['blue'] = 6\n",
        "votes"
      ],
      "metadata": {
        "colab": {
          "base_uri": "https://localhost:8080/"
        },
        "id": "JwK-hqKZramj",
        "outputId": "d19622f9-ece7-460b-de30-9c4577d21f0d"
      },
      "execution_count": null,
      "outputs": [
        {
          "output_type": "execute_result",
          "data": {
            "text/plain": [
              "{'blue': 6, 'cyan': 8, 'red': 3}"
            ]
          },
          "metadata": {},
          "execution_count": 64
        }
      ]
    },
    {
      "cell_type": "code",
      "source": [
        "# Number of the elements (key/value pairs) in the dictionary\n",
        "len(votes)"
      ],
      "metadata": {
        "colab": {
          "base_uri": "https://localhost:8080/"
        },
        "id": "NndDjMbyraor",
        "outputId": "6e045e63-394c-4856-e2ed-d6a58876a33e"
      },
      "execution_count": null,
      "outputs": [
        {
          "output_type": "execute_result",
          "data": {
            "text/plain": [
              "3"
            ]
          },
          "metadata": {},
          "execution_count": 65
        }
      ]
    },
    {
      "cell_type": "code",
      "source": [
        "# List of the values in the dictionary\n",
        "votes.values()"
      ],
      "metadata": {
        "colab": {
          "base_uri": "https://localhost:8080/"
        },
        "id": "vvVS4erhrarB",
        "outputId": "772bcd52-e0dc-4a30-9a74-dd8038541d1c"
      },
      "execution_count": null,
      "outputs": [
        {
          "output_type": "execute_result",
          "data": {
            "text/plain": [
              "dict_values([3, 6, 8])"
            ]
          },
          "metadata": {},
          "execution_count": 68
        }
      ]
    },
    {
      "cell_type": "code",
      "source": [
        "if 'red' in votes:\n",
        "  print('Evet var')"
      ],
      "metadata": {
        "id": "GiuLL_k7ratS",
        "colab": {
          "base_uri": "https://localhost:8080/"
        },
        "outputId": "3f96e2de-7636-4bb5-d6e4-2165dd10fd9a"
      },
      "execution_count": null,
      "outputs": [
        {
          "output_type": "stream",
          "name": "stdout",
          "text": [
            "Evet var\n"
          ]
        }
      ]
    }
  ]
}